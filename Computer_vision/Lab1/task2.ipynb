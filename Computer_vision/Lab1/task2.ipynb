{
 "metadata": {
  "language_info": {
   "codemirror_mode": {
    "name": "ipython",
    "version": 3
   },
   "file_extension": ".py",
   "mimetype": "text/x-python",
   "name": "python",
   "nbconvert_exporter": "python",
   "pygments_lexer": "ipython3",
   "version": "3.8.8-final"
  },
  "orig_nbformat": 2,
  "kernelspec": {
   "name": "python3",
   "display_name": "Python 3",
   "language": "python"
  }
 },
 "nbformat": 4,
 "nbformat_minor": 2,
 "cells": [
  {
   "cell_type": "code",
   "execution_count": 4,
   "metadata": {},
   "outputs": [
    {
     "output_type": "stream",
     "name": "stdout",
     "text": [
      "4.5.1\n"
     ]
    }
   ],
   "source": [
    "import cv2\n",
    "print(cv2.__version__)\n",
    "from matplotlib import pyplot as plt\n",
    "import numpy as np"
   ]
  },
  {
   "cell_type": "code",
   "execution_count": 10,
   "metadata": {},
   "outputs": [],
   "source": [
    "! rm output2.avi\n",
    "\n",
    "frame_width=640\n",
    "frame_height=480\n",
    "out = cv2.VideoWriter('output2.avi',cv2.VideoWriter_fourcc('X','V','I','D'), 1, (frame_width,frame_height))\n",
    "\n",
    "counter=0\n",
    "frame=np.zeros((frame_height,frame_width,3),np.uint8)\n",
    "while (1):\n",
    "    if counter!=10:\n",
    "        frame=np.zeros((frame_height,frame_width,3),np.uint8)\n",
    "        rand_x=int(np.random.rand(1)*255)\n",
    "        rand_y=int(np.random.rand(1)*255)\n",
    "        frame[rand_x,:,:]=list(np.random.randn(1,3)*255) * frame_width\n",
    "        frame[:,rand_y,:]=list(np.random.randn(1,3)*255) * frame_height\n",
    "        out.write(frame)\n",
    "        cv2.imshow('frame',frame)\n",
    "        key=cv2.waitKey(1000)\n",
    "        if key==ord('q'):\n",
    "            break\n",
    "        counter+=1\n",
    "    else:\n",
    "\n",
    "        break\n",
    "\n",
    "out.release()\n",
    "cv2.destroyAllWindows()"
   ]
  },
  {
   "cell_type": "code",
   "execution_count": null,
   "metadata": {},
   "outputs": [],
   "source": []
  }
 ]
}