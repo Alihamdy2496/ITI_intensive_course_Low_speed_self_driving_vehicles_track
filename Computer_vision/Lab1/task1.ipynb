{
 "metadata": {
  "language_info": {
   "codemirror_mode": {
    "name": "ipython",
    "version": 3
   },
   "file_extension": ".py",
   "mimetype": "text/x-python",
   "name": "python",
   "nbconvert_exporter": "python",
   "pygments_lexer": "ipython3",
   "version": "3.8.8-final"
  },
  "orig_nbformat": 2,
  "kernelspec": {
   "name": "python3",
   "display_name": "Python 3",
   "language": "python"
  }
 },
 "nbformat": 4,
 "nbformat_minor": 2,
 "cells": [
  {
   "cell_type": "code",
   "execution_count": 1,
   "metadata": {},
   "outputs": [
    {
     "output_type": "stream",
     "name": "stdout",
     "text": [
      "4.5.1\n"
     ]
    }
   ],
   "source": [
    "import cv2\n",
    "print(cv2.__version__)\n",
    "from matplotlib import pyplot as plt\n",
    "import numpy as np"
   ]
  },
  {
   "cell_type": "code",
   "execution_count": 5,
   "metadata": {},
   "outputs": [],
   "source": [
    "! rm output.avi\n",
    "\n",
    "frame_width=640\n",
    "frame_height=480\n",
    "out = cv2.VideoWriter('output.avi',cv2.VideoWriter_fourcc('X','V','I','D'), 10, (frame_width,frame_height))\n",
    "\n",
    "counter=0\n",
    "frame=np.zeros((frame_height,frame_width,3),np.uint8)\n",
    "while (1):\n",
    "    if counter!=100:\n",
    "        frame[:,:,:]=np.random.rand(1,3)*255\n",
    "        out.write(frame)\n",
    "        cv2.imshow('frame',frame)\n",
    "        key=cv2.waitKey(20)\n",
    "        if key==ord('q'):\n",
    "            breakS\n",
    "        counter+=1\n",
    "    else:\n",
    "\n",
    "        break\n",
    "\n",
    "out.release()\n",
    "cv2.destroyAllWindows()"
   ]
  },
  {
   "source": [
    "\n"
   ],
   "cell_type": "markdown",
   "metadata": {}
  }
 ]
}