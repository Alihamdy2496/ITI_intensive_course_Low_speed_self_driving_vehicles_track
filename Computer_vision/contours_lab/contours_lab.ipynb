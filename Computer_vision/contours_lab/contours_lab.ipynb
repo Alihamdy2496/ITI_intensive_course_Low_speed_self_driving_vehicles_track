{
 "metadata": {
  "language_info": {
   "codemirror_mode": {
    "name": "ipython",
    "version": 3
   },
   "file_extension": ".py",
   "mimetype": "text/x-python",
   "name": "python",
   "nbconvert_exporter": "python",
   "pygments_lexer": "ipython3",
   "version": "3.8.8"
  },
  "orig_nbformat": 2,
  "kernelspec": {
   "name": "python388jvsc74a57bd05aed86d787bde9146cb9d863f573fa1ac00eeb010ce60a85a43a296541db3d6a",
   "display_name": "Python 3.8.8 64-bit ('base': conda)"
  }
 },
 "nbformat": 4,
 "nbformat_minor": 2,
 "cells": [
  {
   "cell_type": "code",
   "execution_count": 2,
   "metadata": {},
   "outputs": [],
   "source": [
    "import cv2\n",
    "import numpy as np\n",
    "import matplotlib.pyplot as plt\n",
    "from skimage import img_as_float"
   ]
  },
  {
   "cell_type": "code",
   "execution_count": 3,
   "metadata": {},
   "outputs": [],
   "source": [
    "img = cv2.imread('lab.png')\n",
    "#plt.figure(figsize=(20, 10))\n",
    "#plt.imshow(img, cmap='gray');"
   ]
  },
  {
   "cell_type": "code",
   "execution_count": 4,
   "metadata": {},
   "outputs": [],
   "source": [
    "edged_img = cv2.Canny(img,127,225)\n",
    "cnt,heirarchy = cv2.findContours(edged_img,cv2.RETR_CCOMP,cv2.CHAIN_APPROX_SIMPLE)      "
   ]
  },
  {
   "cell_type": "code",
   "execution_count": 5,
   "metadata": {
    "tags": []
   },
   "outputs": [],
   "source": [
    "for c in cnt:\n",
    "    M = cv2.moments(c)\n",
    "    area = cv2.contourArea(c)\n",
    "    cx = int(M['m10']/M['m00'])\n",
    "    cy = int(M['m01']/M['m00'])\n",
    "    #cv2.putText(img,str(area), (cx, cy), cv2.FONT_HERSHEY_SIMPLEX, 0.5, (0, 0, 255),1)\n",
    "    if (area==371.0 or area==468.0 or area==569.0):\n",
    "        cv2.drawContours(img, [c], 0, (255, 255, 255),thickness=-1)\n",
    "    if (area==12433.0):\n",
    "        cv2.drawContours(img, [c], 0, (255, 0, 0),thickness=-1)\n",
    "    if (area==49299.0):\n",
    "        cv2.drawContours(img, [c], 0, (0, 0, 255),thickness=-1)\n",
    "while True:\n",
    "    cv2.imshow('Contours',img)                 \n",
    "    if cv2.waitKey(1) & 0xFF == 27:\n",
    "        plt.imsave(\"out1.jpg\",img[:,:,::-1])\n",
    "        break\n",
    "cv2.destroyAllWindows()"
   ]
  },
  {
   "cell_type": "code",
   "execution_count": 183,
   "metadata": {},
   "outputs": [
    {
     "output_type": "stream",
     "name": "stdout",
     "text": [
      "371.0\n341.0\n1170.0\n1136.0\n4857.0\n4856.5\n12433.0\n12415.0\n49299.0\n49114.0\n468.0\n450.0\n569.0\n568.5\n"
     ]
    }
   ],
   "source": [
    "for c in cnt:\n",
    "    M = cv2.moments(c)\n",
    "    area = cv2.contourArea(c)\n",
    "    cx = int(M['m10']/M['m00'])\n",
    "    cy = int(M['m01']/M['m00'])\n",
    "    print(area)"
   ]
  },
  {
   "cell_type": "code",
   "execution_count": null,
   "metadata": {},
   "outputs": [],
   "source": []
  }
 ]
}