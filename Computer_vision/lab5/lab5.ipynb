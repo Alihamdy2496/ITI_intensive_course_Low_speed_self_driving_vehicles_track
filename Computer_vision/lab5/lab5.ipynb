{
 "metadata": {
  "language_info": {
   "codemirror_mode": {
    "name": "ipython",
    "version": 3
   },
   "file_extension": ".py",
   "mimetype": "text/x-python",
   "name": "python",
   "nbconvert_exporter": "python",
   "pygments_lexer": "ipython3",
   "version": "3.8.8"
  },
  "orig_nbformat": 2,
  "kernelspec": {
   "name": "python388jvsc74a57bd05aed86d787bde9146cb9d863f573fa1ac00eeb010ce60a85a43a296541db3d6a",
   "display_name": "Python 3.8.8 64-bit ('base': conda)"
  }
 },
 "nbformat": 4,
 "nbformat_minor": 2,
 "cells": [
  {
   "cell_type": "code",
   "execution_count": 1,
   "metadata": {},
   "outputs": [
    {
     "output_type": "stream",
     "name": "stdout",
     "text": [
      "4.5.1\n"
     ]
    }
   ],
   "source": [
    "import cv2\n",
    "print(cv2.__version__)\n",
    "from matplotlib import pyplot as plt\n",
    "import numpy as np"
   ]
  },
  {
   "cell_type": "code",
   "execution_count": 20,
   "metadata": {},
   "outputs": [],
   "source": [
    "! rm output2.avi\n",
    "cap = cv2.VideoCapture(\"Lanes.mp4\") \n",
    "counter=0\n",
    "frame_width=1280\n",
    "frame_height=720\n",
    "outvid = cv2.VideoWriter('output2.avi',cv2.VideoWriter_fourcc('X','V','I','D'), 1, (frame_width,frame_height))\n",
    "\n",
    "while (cap.isOpened()):\n",
    "    ret,frame=cap.read()\n",
    "    frame1 = np.copy(frame)\n",
    "    if ret==True:\n",
    "        #cv2.imshow('frame',frame)\n",
    "        frame = cv2.cvtColor(frame, cv2.COLOR_RGB2HLS)\n",
    "        frame1 = cv2.cvtColor(frame1, cv2.COLOR_RGB2YCrCb)\n",
    "        ret1, out1 = cv2.threshold(frame[:,:,1], 190, 255, cv2.THRESH_BINARY)\n",
    "        ret2, out2 = cv2.threshold(frame1[:,:,0], 200, 255, cv2.THRESH_BINARY)\n",
    "        out = np.logical_and(out1, out2).astype(np.uint8) * 255\n",
    "        outvid.write(out)\n",
    "        cv2.imshow('frame',out)\n",
    "        key=cv2.waitKey(1)\n",
    "\n",
    "        if key==ord('q'):\n",
    "            break\n",
    "        elif key==ord('s'):\n",
    "            cv2.imwrite(\"outpicOri{}.jpg\".format(counter),frame)\n",
    "            cv2.imwrite(\"outpicCon{}.jpg\".format(counter),out)\n",
    "            counter+=1\n",
    "    else:\n",
    "\n",
    "        break\n",
    "\n",
    "outvid.release()\n",
    "cv2.destroyAllWindows()"
   ]
  },
  {
   "cell_type": "code",
   "execution_count": 12,
   "metadata": {},
   "outputs": [
    {
     "output_type": "error",
     "ename": "AttributeError",
     "evalue": "'cv2.VideoCapture' object has no attribute 'shape'",
     "traceback": [
      "\u001b[0;31m---------------------------------------------------------------------------\u001b[0m",
      "\u001b[0;31mAttributeError\u001b[0m                            Traceback (most recent call last)",
      "\u001b[0;32m<ipython-input-12-388a6f7bf754>\u001b[0m in \u001b[0;36m<module>\u001b[0;34m\u001b[0m\n\u001b[0;32m----> 1\u001b[0;31m \u001b[0mcap\u001b[0m\u001b[0;34m.\u001b[0m\u001b[0mshape\u001b[0m\u001b[0;34m\u001b[0m\u001b[0;34m\u001b[0m\u001b[0m\n\u001b[0m",
      "\u001b[0;31mAttributeError\u001b[0m: 'cv2.VideoCapture' object has no attribute 'shape'"
     ]
    }
   ],
   "source": [
    "cap.shape"
   ]
  },
  {
   "cell_type": "code",
   "execution_count": 2,
   "metadata": {},
   "outputs": [],
   "source": [
    "methods = ['THRESH_BINARY',\n",
    "           'THRESH_BINARY_INV',\n",
    "           'THRESH_TRUNC',\n",
    "           'THRESH_TOZERO',\n",
    "           'THRESH_TOZERO_INV',\n",
    "           'THRESH_TRIANGLE']"
   ]
  },
  {
   "cell_type": "code",
   "execution_count": 5,
   "metadata": {
    "tags": []
   },
   "outputs": [],
   "source": [
    "def nothing(x):\n",
    "    pass\n",
    "\n",
    "img = plt.imread(\"outpic0.jpg\")\n",
    "img = cv2.cvtColor(img, cv2.COLOR_RGB2HLS)\n",
    "img1 = cv2.cvtColor(img, cv2.COLOR_RGB2LAB)\n",
    "\n",
    "\n",
    "cv2.namedWindow('Image')\n",
    "\n",
    "cv2.createTrackbar('low', 'Image', 0, 255, nothing)\n",
    "cv2.createTrackbar('high', 'Image', 0, 255, nothing)\n",
    "cv2.createTrackbar('method', 'Image', 0, 5, nothing)\n",
    "\n",
    "font = cv2.FONT_HERSHEY_SIMPLEX\n",
    "\n",
    "while (1):\n",
    "    low = cv2.getTrackbarPos('low','Image')\n",
    "    high = cv2.getTrackbarPos('high','Image')\n",
    "    method = cv2.getTrackbarPos('method','Image')\n",
    "    \n",
    "    if (method == 0):\n",
    "        ret1, out1 = cv2.threshold(img[:,:,1], low, 255, cv2.THRESH_BINARY)#170\n",
    "        ret2, out2 = cv2.threshold(img1[:,:,0], high, 255, cv2.THRESH_BINARY)#110\n",
    "        out = np.logical_and(out1, out2).astype(np.uint8) * 255\n",
    "\n",
    "    else:\n",
    "        pass\n",
    "    \n",
    "    cv2.imshow('Image', out)\n",
    "    k = cv2.waitKey(1) & 0xFF\n",
    "    if k == 27:\n",
    "        break\n",
    "    \n",
    "cv2.destroyAllWindows()"
   ]
  },
  {
   "cell_type": "code",
   "execution_count": 28,
   "metadata": {},
   "outputs": [
    {
     "output_type": "execute_result",
     "data": {
      "text/plain": [
       "(720, 1280)"
      ]
     },
     "metadata": {},
     "execution_count": 28
    }
   ],
   "source": [
    "out.shape\n"
   ]
  },
  {
   "cell_type": "code",
   "execution_count": 25,
   "metadata": {},
   "outputs": [],
   "source": [
    "! rm o.jpg\n",
    "img = plt.imread(\"outpic0.jpg\")\n",
    "img = cv2.cvtColor(img, cv2.COLOR_RGB2HLS)\n",
    "imgcopy = img.copy()\n",
    "\n",
    "val = 0\n",
    "\n",
    "imgcopy[:,:,1] = imgcopy[:,:,1] -val\n",
    "imgcopy[:,:,1][ img[:,:,1] < val ]= 0\n",
    "\n",
    "val = 80\n",
    "img=imgcopy\n",
    "imgcopy[:,:,2] = imgcopy[:,:,2] +val\n",
    "imgcopy[:,:,2][ img[:,:,2] > 255-val ]= 0\n",
    "\n",
    "val = 0\n",
    "img=imgcopy\n",
    "imgcopy[:,:,0] = imgcopy[:,:,0] -val\n",
    "imgcopy[:,:,0][ img[:,:,0] < val ]= 0\n",
    "\n",
    "img=imgcopy\n",
    "imgcopy[:,:,0] = imgcopy[:,:,0] +val\n",
    "imgcopy[:,:,0][ img[:,:,0] > 255-val ]= 255\n",
    "\n",
    "imgcopy = cv2.cvtColor(imgcopy, cv2.COLOR_HLS2RGB)\n",
    "plt.imsave(\"o.jpg\",imgcopy);"
   ]
  },
  {
   "cell_type": "code",
   "execution_count": null,
   "metadata": {},
   "outputs": [],
   "source": []
  },
  {
   "cell_type": "code",
   "execution_count": null,
   "metadata": {},
   "outputs": [],
   "source": []
  }
 ]
}