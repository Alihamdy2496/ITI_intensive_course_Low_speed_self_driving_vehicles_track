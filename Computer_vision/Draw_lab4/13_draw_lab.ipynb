{
 "metadata": {
  "language_info": {
   "codemirror_mode": {
    "name": "ipython",
    "version": 3
   },
   "file_extension": ".py",
   "mimetype": "text/x-python",
   "name": "python",
   "nbconvert_exporter": "python",
   "pygments_lexer": "ipython3",
   "version": "3.8.8"
  },
  "orig_nbformat": 2,
  "kernelspec": {
   "name": "python388jvsc74a57bd05aed86d787bde9146cb9d863f573fa1ac00eeb010ce60a85a43a296541db3d6a",
   "display_name": "Python 3.8.8 64-bit ('base': conda)"
  }
 },
 "nbformat": 4,
 "nbformat_minor": 2,
 "cells": [
  {
   "cell_type": "code",
   "execution_count": 1,
   "metadata": {},
   "outputs": [],
   "source": [
    "import cv2\n",
    "import numpy as np\n",
    "import matplotlib.pyplot as plt"
   ]
  },
  {
   "cell_type": "code",
   "execution_count": 3,
   "metadata": {},
   "outputs": [],
   "source": [
    "def draw(event,x,y,flags,param):\n",
    "    if event == cv2.EVENT_LBUTTONDOWN:\n",
    "        cv2.rectangle(img,\n",
    "        (x, y), (x+10, y+10),\n",
    "        (0,255, 0), -1)\n",
    "    if event == cv2.EVENT_LBUTTONUP:\n",
    "        cv2.rectangle(img,\n",
    "        (x, y), (x+20, y+10),\n",
    "        (0, 0, 255), -1)\n",
    "    if event == cv2.EVENT_RBUTTONUP:\n",
    "        cv2.circle(img,(x,y),15,(255,0, 0),-1)\n",
    "    if event == cv2.EVENT_RBUTTONDOWN:\n",
    "        cv2.ellipse(img, (x, y), (15, 15), 0, 0, 180, (0, 255, 255), 1)\n",
    "    if event == cv2.EVENT_MBUTTONDOWN:\n",
    "        cv2.putText(img, 'ALI', (x, y), cv2.FONT_HERSHEY_SIMPLEX, 1, (212, 255, 127), 1, cv2.FILLED)\n",
    "\n",
    "img = np.zeros((800,800,3), np.uint8)\n",
    "\n",
    "cv2.namedWindow('image')\n",
    "cv2.setMouseCallback('image', draw)\n",
    "\n",
    "while(1):\n",
    "    cv2.imshow('image',img)\n",
    "    if cv2.waitKey(20) == ord('q'):\n",
    "        break\n",
    "\n",
    "cv2.destroyAllWindows()"
   ]
  },
  {
   "cell_type": "code",
   "execution_count": null,
   "metadata": {},
   "outputs": [],
   "source": []
  }
 ]
}