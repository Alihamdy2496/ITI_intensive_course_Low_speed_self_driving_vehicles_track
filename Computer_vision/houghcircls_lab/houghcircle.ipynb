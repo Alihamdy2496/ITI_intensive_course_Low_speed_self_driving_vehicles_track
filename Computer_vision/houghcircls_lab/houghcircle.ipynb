{
 "metadata": {
  "language_info": {
   "codemirror_mode": {
    "name": "ipython",
    "version": 3
   },
   "file_extension": ".py",
   "mimetype": "text/x-python",
   "name": "python",
   "nbconvert_exporter": "python",
   "pygments_lexer": "ipython3",
   "version": "3.8.8"
  },
  "orig_nbformat": 2,
  "kernelspec": {
   "name": "python388jvsc74a57bd05aed86d787bde9146cb9d863f573fa1ac00eeb010ce60a85a43a296541db3d6a",
   "display_name": "Python 3.8.8 64-bit ('base': conda)"
  }
 },
 "nbformat": 4,
 "nbformat_minor": 2,
 "cells": [
  {
   "cell_type": "code",
   "execution_count": 1,
   "metadata": {},
   "outputs": [],
   "source": [
    "import cv2\n",
    "import numpy as np\n",
    "import matplotlib.pyplot as plt\n",
    "\n",
    "img1 = cv2.imread('circles.png')\n",
    "img2 = cv2.imread('Capture.PNG')\n"
   ]
  },
  {
   "cell_type": "code",
   "execution_count": 13,
   "metadata": {},
   "outputs": [
    {
     "output_type": "stream",
     "name": "stderr",
     "text": [
      "<ipython-input-13-820ca9246959>:32: DeprecationWarning: an integer is required (got type numpy.float32).  Implicit conversion to integers using __int__ is deprecated, and may be removed in a future version of Python.\n  cv2.putText(image,str(i), (x, y), cv2.FONT_HERSHEY_SIMPLEX, 0.5, (0, 0, 0), 2, cv2.FILLED)\n"
     ]
    }
   ],
   "source": [
    "def nothing(x):\n",
    "    pass\n",
    "\n",
    "cv2.namedWindow('Hough')\n",
    "\n",
    "cv2.createTrackbar('dp', 'Hough', 2, 500, nothing)\n",
    "cv2.createTrackbar('minDist', 'Hough', 18, 800, nothing)\n",
    "cv2.createTrackbar('param1', 'Hough', 50, 800, nothing)\n",
    "cv2.createTrackbar('param2', 'Hough', 55, 800, nothing)\n",
    "cv2.createTrackbar('minRadius', 'Hough', 22, 800, nothing)\n",
    "cv2.createTrackbar('maxRadius', 'Hough', 26, 800, nothing)\n",
    "\n",
    "gray1 = cv2.cvtColor(img1, cv2.COLOR_BGR2GRAY)\n",
    "edges1 = cv2.Canny(gray1, 100, 200)\n",
    "\n",
    "while 1:\n",
    "    image = img1.copy()\n",
    "    dp = cv2.getTrackbarPos('dp','Hough')\n",
    "    minDist = cv2.getTrackbarPos('minDist','Hough')\n",
    "    param1 = cv2.getTrackbarPos('param1','Hough')\n",
    "    param2 = cv2.getTrackbarPos('param2','Hough')\n",
    "    minRadius = cv2.getTrackbarPos('minRadius','Hough')\n",
    "    maxRadius = cv2.getTrackbarPos('maxRadius','Hough')\n",
    "    lines1=cv2.HoughCircles(image=gray1,method=cv2.HOUGH_GRADIENT,dp=dp,minDist=minDist\n",
    "                            ,param1=param1, param2=param2, minRadius=minRadius, maxRadius=maxRadius)\n",
    "\n",
    "    if lines1 is not None:\n",
    "        for i in range(0, len(lines1[0])):\n",
    "            x=lines1[0][i][0]\n",
    "            y=lines1[0][i][1]\n",
    "            r=round(lines1[0][i][2])\n",
    "            cv2.putText(image,str(i), (x, y), cv2.FONT_HERSHEY_SIMPLEX, 0.5, (0, 0, 0), 2, cv2.FILLED)\n",
    "\n",
    "    cv2.putText(image,\"circls = \"+str(lines1.shape[1]), (50, 50), cv2.FONT_HERSHEY_SIMPLEX, 0.5, (0, 0, 0), 2, cv2.FILLED)\n",
    "    edgesC1 = cv2.cvtColor(edges1, cv2.COLOR_GRAY2BGR)\n",
    "    image = cv2.addWeighted(image, 0.9, edgesC1, 0.5, 0)\n",
    "    cv2.imshow('Hough', image)\n",
    "    k = cv2.waitKey(1)\n",
    "    if k == 27:\n",
    "        plt.imsave(\"out1.jpg\",image[:,:,::-1])\n",
    "        break\n",
    "cv2.destroyAllWindows()"
   ]
  },
  {
   "cell_type": "code",
   "execution_count": 14,
   "metadata": {},
   "outputs": [
    {
     "output_type": "stream",
     "name": "stderr",
     "text": [
      "<ipython-input-14-59f2ba9c847d>:32: DeprecationWarning: an integer is required (got type numpy.float32).  Implicit conversion to integers using __int__ is deprecated, and may be removed in a future version of Python.\n  cv2.circle(image, (x, y), r,(0, 0, 0),2)\n<ipython-input-14-59f2ba9c847d>:33: DeprecationWarning: an integer is required (got type numpy.float32).  Implicit conversion to integers using __int__ is deprecated, and may be removed in a future version of Python.\n  cv2.putText(image,str(i), (x, y), cv2.FONT_HERSHEY_SIMPLEX, 0.5, (0, 0, 0), 2, cv2.FILLED)\n"
     ]
    }
   ],
   "source": [
    "def nothing(x):\n",
    "    pass\n",
    "\n",
    "cv2.namedWindow('Hough')\n",
    "\n",
    "cv2.createTrackbar('dp', 'Hough', 2, 500, nothing)\n",
    "cv2.createTrackbar('minDist', 'Hough', 33, 800, nothing)\n",
    "cv2.createTrackbar('param1', 'Hough', 24, 800, nothing)\n",
    "cv2.createTrackbar('param2', 'Hough', 34, 800, nothing)\n",
    "cv2.createTrackbar('minRadius', 'Hough', 1, 800, nothing)\n",
    "cv2.createTrackbar('maxRadius', 'Hough', 40, 800, nothing)\n",
    "\n",
    "gray2 = cv2.cvtColor(img2, cv2.COLOR_BGR2GRAY)\n",
    "edges1 = cv2.Canny(gray2, 100, 200)\n",
    "\n",
    "while 1:\n",
    "    image = img2.copy()\n",
    "    dp = cv2.getTrackbarPos('dp','Hough')\n",
    "    minDist = cv2.getTrackbarPos('minDist','Hough')\n",
    "    param1 = cv2.getTrackbarPos('param1','Hough')\n",
    "    param2 = cv2.getTrackbarPos('param2','Hough')\n",
    "    minRadius = cv2.getTrackbarPos('minRadius','Hough')\n",
    "    maxRadius = cv2.getTrackbarPos('maxRadius','Hough')\n",
    "    lines1=cv2.HoughCircles(image=gray2,method=cv2.HOUGH_GRADIENT,dp=dp,minDist=minDist\n",
    "                            ,param1=param1, param2=param2, minRadius=minRadius, maxRadius=maxRadius)\n",
    "\n",
    "    if lines1 is not None:\n",
    "        for i in range(0, len(lines1[0])):\n",
    "            x=lines1[0][i][0]\n",
    "            y=lines1[0][i][1]\n",
    "            r=round(lines1[0][i][2])\n",
    "            cv2.circle(image, (x, y), r,(0, 0, 0),2)\n",
    "            cv2.putText(image,str(i), (x, y), cv2.FONT_HERSHEY_SIMPLEX, 0.5, (0, 0, 0), 2, cv2.FILLED)\n",
    "\n",
    "    cv2.putText(image,\"circls = \"+str(lines1.shape[1]), (50, 50), cv2.FONT_HERSHEY_SIMPLEX, 0.5, (0, 0, 0), 2, cv2.FILLED)\n",
    "    edgesC1 = cv2.cvtColor(edges1, cv2.COLOR_GRAY2BGR)\n",
    "    image = cv2.addWeighted(image, 0.9, edgesC1, 0.5, 0)\n",
    "    cv2.imshow('Hough', image)\n",
    "    k = cv2.waitKey(1)\n",
    "    if k == 27:\n",
    "        plt.imsave(\"out2.jpg\",image[:,:,::-1])\n",
    "        break\n",
    "cv2.destroyAllWindows()"
   ]
  },
  {
   "cell_type": "code",
   "execution_count": null,
   "metadata": {},
   "outputs": [],
   "source": []
  }
 ]
}